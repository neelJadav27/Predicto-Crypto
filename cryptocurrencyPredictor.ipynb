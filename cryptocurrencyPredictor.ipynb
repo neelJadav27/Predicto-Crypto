{
 "cells": [
  {
   "cell_type": "code",
   "execution_count": 14,
   "id": "cacf52a7",
   "metadata": {},
   "outputs": [],
   "source": [
    "# Python Essentials \n",
    "import numpy as np\n",
    "import pandas as pd\n",
    "import pandas_datareader as web\n",
    "\n",
    "# To import and format timeStamps\n",
    "import datetime as dt\n",
    "from datetime import date\n",
    "\n",
    "# Our Cryptocurrency Live Data API\n",
    "import fastquant as fq\n",
    "\n",
    "# Data Visualization libraries\n",
    "import matplotlib.pyplot as plt\n",
    "import plotly.graph_objs as go\n",
    "import plotly.express as px\n",
    "\n",
    "# Hadoop Access Client\n",
    "from snakebite.client import Client\n",
    "\n",
    "# Deep Learning libraries\n",
    "from sklearn.preprocessing import MinMaxScaler\n",
    "from tensorflow.keras.layers import Dense, Dropout, LSTM\n",
    "from tensorflow.keras.models import Sequential\n"
   ]
  },
  {
   "cell_type": "code",
   "execution_count": 15,
   "id": "1fd846a8",
   "metadata": {},
   "outputs": [
    {
     "name": "stdout",
     "output_type": "stream",
     "text": [
      "Enter the CryptoCurrency: ADA\n",
      "Enter the CryptoCurrency you want to trade ADA against: BTC\n"
     ]
    }
   ],
   "source": [
    "crypto_currency = input('Enter the CryptoCurrency: ') \n",
    "against_currency = input('Enter the CryptoCurrency you want to trade ' + crypto_currency +' against: ')    "
   ]
  },
  {
   "cell_type": "code",
   "execution_count": 16,
   "id": "5f0b2067",
   "metadata": {},
   "outputs": [
    {
     "name": "stdout",
     "output_type": "stream",
     "text": [
      "{'path': 'C:\\\\Users\\\\Neel\\\\Desktop\\\\Hadoop\\\\ADA-BTC.csv', 'result': True, 'error': '', 'source_path': '/hData/ADA-BTC.csv'}\n"
     ]
    }
   ],
   "source": [
    "client = Client('localhost', 9000)\n",
    "for a in client.copyToLocal(['/hData/'+crypto_currency+'-'+against_currency+'.csv'], 'C:/Users/Neel/Desktop/Hadoop/'):\n",
    "        print(a)"
   ]
  },
  {
   "cell_type": "code",
   "execution_count": 17,
   "id": "55c64ade",
   "metadata": {},
   "outputs": [],
   "source": [
    "data= pd.read_csv(crypto_currency+'-'+against_currency+\".csv\",index_col=0)"
   ]
  },
  {
   "cell_type": "code",
   "execution_count": 18,
   "id": "980808b8",
   "metadata": {},
   "outputs": [
    {
     "data": {
      "text/html": [
       "<div>\n",
       "<style scoped>\n",
       "    .dataframe tbody tr th:only-of-type {\n",
       "        vertical-align: middle;\n",
       "    }\n",
       "\n",
       "    .dataframe tbody tr th {\n",
       "        vertical-align: top;\n",
       "    }\n",
       "\n",
       "    .dataframe thead th {\n",
       "        text-align: right;\n",
       "    }\n",
       "</style>\n",
       "<table border=\"1\" class=\"dataframe\">\n",
       "  <thead>\n",
       "    <tr style=\"text-align: right;\">\n",
       "      <th></th>\n",
       "      <th>open</th>\n",
       "      <th>high</th>\n",
       "      <th>low</th>\n",
       "      <th>close</th>\n",
       "      <th>volume</th>\n",
       "    </tr>\n",
       "    <tr>\n",
       "      <th>dt</th>\n",
       "      <th></th>\n",
       "      <th></th>\n",
       "      <th></th>\n",
       "      <th></th>\n",
       "      <th></th>\n",
       "    </tr>\n",
       "  </thead>\n",
       "  <tbody>\n",
       "    <tr>\n",
       "      <th>2020-01-02</th>\n",
       "      <td>0.000005</td>\n",
       "      <td>0.000005</td>\n",
       "      <td>0.000005</td>\n",
       "      <td>0.000005</td>\n",
       "      <td>25328513.0</td>\n",
       "    </tr>\n",
       "    <tr>\n",
       "      <th>2020-01-03</th>\n",
       "      <td>0.000005</td>\n",
       "      <td>0.000005</td>\n",
       "      <td>0.000005</td>\n",
       "      <td>0.000005</td>\n",
       "      <td>43527066.0</td>\n",
       "    </tr>\n",
       "    <tr>\n",
       "      <th>2020-01-04</th>\n",
       "      <td>0.000005</td>\n",
       "      <td>0.000005</td>\n",
       "      <td>0.000005</td>\n",
       "      <td>0.000005</td>\n",
       "      <td>25959654.0</td>\n",
       "    </tr>\n",
       "    <tr>\n",
       "      <th>2020-01-05</th>\n",
       "      <td>0.000005</td>\n",
       "      <td>0.000005</td>\n",
       "      <td>0.000005</td>\n",
       "      <td>0.000005</td>\n",
       "      <td>30087484.0</td>\n",
       "    </tr>\n",
       "    <tr>\n",
       "      <th>2020-01-06</th>\n",
       "      <td>0.000005</td>\n",
       "      <td>0.000005</td>\n",
       "      <td>0.000005</td>\n",
       "      <td>0.000005</td>\n",
       "      <td>72810857.0</td>\n",
       "    </tr>\n",
       "    <tr>\n",
       "      <th>...</th>\n",
       "      <td>...</td>\n",
       "      <td>...</td>\n",
       "      <td>...</td>\n",
       "      <td>...</td>\n",
       "      <td>...</td>\n",
       "    </tr>\n",
       "    <tr>\n",
       "      <th>2021-11-21</th>\n",
       "      <td>0.000032</td>\n",
       "      <td>0.000032</td>\n",
       "      <td>0.000031</td>\n",
       "      <td>0.000031</td>\n",
       "      <td>15599647.7</td>\n",
       "    </tr>\n",
       "    <tr>\n",
       "      <th>2021-11-22</th>\n",
       "      <td>0.000031</td>\n",
       "      <td>0.000032</td>\n",
       "      <td>0.000031</td>\n",
       "      <td>0.000032</td>\n",
       "      <td>25478109.4</td>\n",
       "    </tr>\n",
       "    <tr>\n",
       "      <th>2021-11-23</th>\n",
       "      <td>0.000032</td>\n",
       "      <td>0.000032</td>\n",
       "      <td>0.000030</td>\n",
       "      <td>0.000030</td>\n",
       "      <td>26461203.2</td>\n",
       "    </tr>\n",
       "    <tr>\n",
       "      <th>2021-11-24</th>\n",
       "      <td>0.000030</td>\n",
       "      <td>0.000033</td>\n",
       "      <td>0.000028</td>\n",
       "      <td>0.000029</td>\n",
       "      <td>58996574.6</td>\n",
       "    </tr>\n",
       "    <tr>\n",
       "      <th>2021-11-25</th>\n",
       "      <td>0.000029</td>\n",
       "      <td>0.000030</td>\n",
       "      <td>0.000028</td>\n",
       "      <td>0.000029</td>\n",
       "      <td>40165838.6</td>\n",
       "    </tr>\n",
       "  </tbody>\n",
       "</table>\n",
       "<p>694 rows × 5 columns</p>\n",
       "</div>"
      ],
      "text/plain": [
       "                open      high       low     close      volume\n",
       "dt                                                            \n",
       "2020-01-02  0.000005  0.000005  0.000005  0.000005  25328513.0\n",
       "2020-01-03  0.000005  0.000005  0.000005  0.000005  43527066.0\n",
       "2020-01-04  0.000005  0.000005  0.000005  0.000005  25959654.0\n",
       "2020-01-05  0.000005  0.000005  0.000005  0.000005  30087484.0\n",
       "2020-01-06  0.000005  0.000005  0.000005  0.000005  72810857.0\n",
       "...              ...       ...       ...       ...         ...\n",
       "2021-11-21  0.000032  0.000032  0.000031  0.000031  15599647.7\n",
       "2021-11-22  0.000031  0.000032  0.000031  0.000032  25478109.4\n",
       "2021-11-23  0.000032  0.000032  0.000030  0.000030  26461203.2\n",
       "2021-11-24  0.000030  0.000033  0.000028  0.000029  58996574.6\n",
       "2021-11-25  0.000029  0.000030  0.000028  0.000029  40165838.6\n",
       "\n",
       "[694 rows x 5 columns]"
      ]
     },
     "execution_count": 18,
     "metadata": {},
     "output_type": "execute_result"
    }
   ],
   "source": [
    "data"
   ]
  },
  {
   "cell_type": "code",
   "execution_count": 19,
   "id": "e07266a9",
   "metadata": {},
   "outputs": [],
   "source": [
    "# Prepare Data\n",
    "#print(data.head())\n",
    "\n",
    "scaler = MinMaxScaler(feature_range=(0,1))\n",
    "scaled_data = scaler.fit_transform(data['close'].values.reshape(-1,1))\n",
    "\n",
    "prediction_days = 60\n",
    "\n",
    "x_train, y_train = [], []\n",
    " \n",
    "for x in range(prediction_days, len(scaled_data)):\n",
    "    x_train.append(scaled_data[x-prediction_days:x, 0])\n",
    "    y_train.append(scaled_data[x, 0])\n",
    "\n",
    "x_train , y_train = np.array(x_train), np.array(y_train)\n",
    "x_train = np.reshape(x_train, (x_train.shape[0], x_train.shape[1], 1))\n"
   ]
  },
  {
   "cell_type": "code",
   "execution_count": 20,
   "id": "05884282",
   "metadata": {},
   "outputs": [],
   "source": [
    "# Create Neural Network\n",
    "\n",
    "model = Sequential()\n",
    "\n",
    "model.add(LSTM(units=20, return_sequences=True, input_shape=(x_train.shape[1], 1)))\n",
    "model.add(Dropout(0.2))\n",
    "model.add(LSTM(units=20, return_sequences=True))\n",
    "model.add(Dropout(0.2))\n",
    "model.add(LSTM(units=20))\n",
    "model.add(Dropout(0.2))\n",
    "model.add(Dense(units=1))\n",
    "\n",
    "model.compile(optimizer='adam', loss='mean_squared_error')\n"
   ]
  },
  {
   "cell_type": "code",
   "execution_count": 21,
   "id": "6db0bedb",
   "metadata": {
    "scrolled": true
   },
   "outputs": [
    {
     "name": "stdout",
     "output_type": "stream",
     "text": [
      "Epoch 1/10\n",
      "10/10 [==============================] - 14s 118ms/step - loss: 0.1312\n",
      "Epoch 2/10\n",
      "10/10 [==============================] - 1s 121ms/step - loss: 0.0423 0s - loss: 0.042\n",
      "Epoch 3/10\n",
      "10/10 [==============================] - 1s 130ms/step - loss: 0.0257\n",
      "Epoch 4/10\n",
      "10/10 [==============================] - 1s 127ms/step - loss: 0.0186\n",
      "Epoch 5/10\n",
      "10/10 [==============================] - 2s 256ms/step - loss: 0.0117\n",
      "Epoch 6/10\n",
      "10/10 [==============================] - 1s 133ms/step - loss: 0.0120\n",
      "Epoch 7/10\n",
      "10/10 [==============================] - 2s 249ms/step - loss: 0.0098 0s - loss: 0.00\n",
      "Epoch 8/10\n",
      "10/10 [==============================] - 1s 147ms/step - loss: 0.0098\n",
      "Epoch 9/10\n",
      "10/10 [==============================] - 3s 281ms/step - loss: 0.0103\n",
      "Epoch 10/10\n",
      "10/10 [==============================] - 2s 150ms/step - loss: 0.0091\n"
     ]
    },
    {
     "data": {
      "text/plain": [
       "<keras.callbacks.History at 0x295b139e820>"
      ]
     },
     "execution_count": 21,
     "metadata": {},
     "output_type": "execute_result"
    }
   ],
   "source": [
    "model.fit(x_train, y_train, epochs=10, batch_size=64)"
   ]
  },
  {
   "cell_type": "code",
   "execution_count": 22,
   "id": "42756af0",
   "metadata": {},
   "outputs": [],
   "source": [
    "y = -20\n",
    "test_start = '2021-01-01'\n",
    "test_end = date.today()\n",
    "test_end= test_end.strftime(\"%Y-%m-%d\")\n",
    "\n",
    "test_data = fq.get_crypto_data(crypto_currency+'/'+against_currency, test_start, test_end,time_resolution=\"1d\")\n",
    "actual_prices = test_data['close'].values[:y]\n",
    "dates = test_data.index.values\n",
    "\n",
    "total_dataset = pd.concat((data['close'], test_data['close']), axis=0)\n",
    "\n",
    "\n",
    "model_inputs = total_dataset[len(total_dataset) - len(test_data) - prediction_days:].values\n",
    "model_inputs = model_inputs.reshape(-1, 1)\n",
    "model_inputs = scaler.fit_transform(model_inputs)\n",
    "\n",
    "x_test = []\n",
    "\n",
    "for x in range(prediction_days, len(model_inputs)):\n",
    "    x_test.append(model_inputs[x-prediction_days:x, 0])\n",
    "\n",
    "x_test = np.array(x_test)\n",
    "x_test = np.reshape(x_test, (x_test.shape[0], x_test.shape[1], 1))\n"
   ]
  },
  {
   "cell_type": "code",
   "execution_count": 23,
   "id": "cf89750a",
   "metadata": {},
   "outputs": [],
   "source": [
    "prediction_prices = model.predict(x_test)\n",
    "prediction_prices = scaler.inverse_transform(prediction_prices)"
   ]
  },
  {
   "cell_type": "code",
   "execution_count": 24,
   "id": "b1fab8a4",
   "metadata": {},
   "outputs": [
    {
     "data": {
      "image/png": "[encoded data removed]",
      "text/plain": [
       "<Figure size 432x288 with 1 Axes>"
      ]
     },
     "metadata": {
      "needs_background": "light"
     },
     "output_type": "display_data"
    }
   ],
   "source": [
    "plt.plot(dates[:y], actual_prices, color='black', label='Actual Prices')\n",
    "plt.plot(dates, prediction_prices, color='green', label='Predicted Prices')\n",
    "plt.title(f'{crypto_currency} price prediction')\n",
    "plt.xlabel('Time')\n",
    "plt.xticks(rotation=90)\n",
    "plt.ylabel('Price')\n",
    "plt.legend(loc='upper left')\n",
    "plt.savefig(crypto_currency+'-'+against_currency+'.png')\n",
    "plt.show()"
   ]
  },
  {
   "cell_type": "code",
   "execution_count": 25,
   "id": "9915e7fe",
   "metadata": {},
   "outputs": [
    {
     "name": "stdout",
     "output_type": "stream",
     "text": [
      "Mean absolute error = 4.860357731445291e-06\n",
      "Mean squared error = 4.79579979102968e-11\n",
      "Median absolute error = 3.5878719530487436e-06\n",
      "Explain variance score = 0.749724367029885\n",
      "R2 score = 0.7491326137991862\n"
     ]
    }
   ],
   "source": [
    "import sklearn.metrics as sm\n",
    "print(\"Mean absolute error =\", sm.mean_absolute_error(actual_prices, prediction_prices[:y]))\n",
    "print(\"Mean squared error =\", sm.mean_squared_error(actual_prices, prediction_prices[:y])) \n",
    "print(\"Median absolute error =\", sm.median_absolute_error(actual_prices, prediction_prices[:y])) \n",
    "print(\"Explain variance score =\", sm.explained_variance_score(actual_prices, prediction_prices[:y])) \n",
    "print(\"R2 score =\", sm.r2_score(actual_prices, prediction_prices[:y]))"
   ]
  },
  {
   "cell_type": "code",
   "execution_count": null,
   "id": "4b0ac1dc",
   "metadata": {},
   "outputs": [],
   "source": []
  },
  {
   "cell_type": "code",
   "execution_count": null,
   "id": "985a5f9e",
   "metadata": {},
   "outputs": [],
   "source": []
  }
 ],
 "metadata": {
  "kernelspec": {
   "display_name": "Python 3 (ipykernel)",
   "language": "python",
   "name": "python3"
  },
  "language_info": {
   "codemirror_mode": {
    "name": "ipython",
    "version": 3
   },
   "file_extension": ".py",
   "mimetype": "text/x-python",
   "name": "python",
   "nbconvert_exporter": "python",
   "pygments_lexer": "ipython3",
   "version": "3.9.7"
  }
 },
 "nbformat": 4,
 "nbformat_minor": 5
}
